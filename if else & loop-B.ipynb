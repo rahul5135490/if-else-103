{
 "cells": [
  {
   "cell_type": "code",
   "execution_count": 1,
   "id": "579141fe",
   "metadata": {},
   "outputs": [
    {
     "name": "stdout",
     "output_type": "stream",
     "text": [
      "Enter the number34\n",
      "34.0\n"
     ]
    }
   ],
   "source": [
    "val=input(\"Enter the number\")\n",
    "value_float=float(val)\n",
    "print(value_float)"
   ]
  },
  {
   "cell_type": "code",
   "execution_count": 2,
   "id": "7f662787",
   "metadata": {},
   "outputs": [
    {
     "name": "stdout",
     "output_type": "stream",
     "text": [
      "Enter the number44\n"
     ]
    }
   ],
   "source": [
    "val=input(\"Enter the number\")\n",
    "value_float=float(val)\n",
    "if(value_float>100):\n",
    "    print(\"The number is greater than 100\")"
   ]
  },
  {
   "cell_type": "code",
   "execution_count": 3,
   "id": "6a8639c0",
   "metadata": {},
   "outputs": [
    {
     "name": "stdout",
     "output_type": "stream",
     "text": [
      "Enter the number234\n",
      "The number is greater than 100\n"
     ]
    }
   ],
   "source": [
    "val=input(\"Enter the number\" )\n",
    "value_float=float(val)\n",
    "if(value_float>100):\n",
    "    print(\"The number is greater than 100\")"
   ]
  },
  {
   "cell_type": "code",
   "execution_count": 4,
   "id": "abb31e7a",
   "metadata": {},
   "outputs": [
    {
     "name": "stdout",
     "output_type": "stream",
     "text": [
      "Enter the number6\n",
      "The number is Even\n"
     ]
    }
   ],
   "source": [
    "val=input(\"Enter the number\" )\n",
    "value_float=float(val)\n",
    "if(value_float%2==0):\n",
    "    print(\"The number is Even\")"
   ]
  },
  {
   "cell_type": "code",
   "execution_count": 5,
   "id": "5d3043c9",
   "metadata": {},
   "outputs": [
    {
     "data": {
      "text/plain": [
       "False"
      ]
     },
     "execution_count": 5,
     "metadata": {},
     "output_type": "execute_result"
    }
   ],
   "source": [
    "11%2==0"
   ]
  },
  {
   "cell_type": "code",
   "execution_count": 6,
   "id": "4533301b",
   "metadata": {},
   "outputs": [
    {
     "name": "stdout",
     "output_type": "stream",
     "text": [
      "Enter the number66\n",
      "The number is Even\n"
     ]
    }
   ],
   "source": [
    "val=input(\"Enter the number\" )\n",
    "value_float=float(val)\n",
    "if(value_float%2==0):\n",
    "    print(\"The number is Even\")"
   ]
  },
  {
   "cell_type": "code",
   "execution_count": 7,
   "id": "612c2851",
   "metadata": {},
   "outputs": [
    {
     "name": "stdout",
     "output_type": "stream",
     "text": [
      "Enter the number65\n",
      "The number is odd\n"
     ]
    }
   ],
   "source": [
    "val=input(\"Enter the number\" )\n",
    "value_float=float(val)\n",
    "if(value_float%2==0):\n",
    "    print(\"The number is Even\")\n",
    "else:\n",
    "    print(\"The number is odd\")"
   ]
  },
  {
   "cell_type": "code",
   "execution_count": 8,
   "id": "3cc5d4b3",
   "metadata": {},
   "outputs": [
    {
     "name": "stdout",
     "output_type": "stream",
     "text": [
      "Enter the number67\n",
      "The number is odd\n"
     ]
    }
   ],
   "source": [
    "val=input(\"Enter the number\" )\n",
    "value_float=float(val)\n",
    "if(value_float%2==0):\n",
    "    print(\"The number is Even\")\n",
    "else:\n",
    "    print(\"The number is odd\")"
   ]
  },
  {
   "cell_type": "code",
   "execution_count": 9,
   "id": "92358452",
   "metadata": {},
   "outputs": [
    {
     "name": "stdout",
     "output_type": "stream",
     "text": [
      "Enter the Age4\n",
      "Minor Age\n"
     ]
    }
   ],
   "source": [
    "age=float(input(\"Enter the Age\"))\n",
    "\n",
    "if(age<18):\n",
    "    print(\"Minor Age\")\n",
    "else:\n",
    "        print(\"You are not minor\")"
   ]
  },
  {
   "cell_type": "code",
   "execution_count": 10,
   "id": "2116a6ea",
   "metadata": {},
   "outputs": [
    {
     "name": "stdout",
     "output_type": "stream",
     "text": [
      "Enter the Age56\n",
      "You are not minor\n"
     ]
    }
   ],
   "source": [
    "age=float(input(\"Enter the Age\"))\n",
    "\n",
    "if(age<18):\n",
    "    print(\"Minor Age\")\n",
    "else:\n",
    "        print(\"You are not minor\")"
   ]
  },
  {
   "cell_type": "code",
   "execution_count": 11,
   "id": "b4e57b4f",
   "metadata": {},
   "outputs": [],
   "source": [
    "# nested if else conditions"
   ]
  },
  {
   "cell_type": "code",
   "execution_count": 12,
   "id": "59d9930b",
   "metadata": {},
   "outputs": [
    {
     "name": "stdout",
     "output_type": "stream",
     "text": [
      "Enter the Age33\n",
      "Mid Age\n"
     ]
    }
   ],
   "source": [
    "age=float(input(\"Enter the Age\"))\n",
    "\n",
    "if(age<18):\n",
    "    print(\"Minor Age\")\n",
    "elif(age>=18 and age<=35):\n",
    "    print(\"Mid Age\")\n",
    "        \n",
    "    "
   ]
  },
  {
   "cell_type": "code",
   "execution_count": 13,
   "id": "9a5ac47e",
   "metadata": {},
   "outputs": [
    {
     "name": "stdout",
     "output_type": "stream",
     "text": [
      "Enter the Age23\n",
      "Mid Age\n"
     ]
    }
   ],
   "source": [
    "age=float(input(\"Enter the Age\"))\n",
    "\n",
    "if(age<18):\n",
    "    print(\"Minor Age\")\n",
    "elif(age>=18 and age<=35):\n",
    "    print(\"Mid Age\")\n",
    "elif(age>=36 and age<=55):\n",
    "    print(\"Greater Mid Age\")\n",
    "elif(age>=56 and age<=75):\n",
    "    print(\"Senior Citizen Age\")"
   ]
  },
  {
   "cell_type": "code",
   "execution_count": 5,
   "id": "eb276759",
   "metadata": {},
   "outputs": [
    {
     "name": "stdout",
     "output_type": "stream",
     "text": [
      "Enter the Age34\n",
      "Mid Age\n"
     ]
    }
   ],
   "source": [
    "age=float(input(\"Enter the Age\"))\n",
    "\n",
    "if(age<18):\n",
    "    print(\"Minor Age\")\n",
    "elif(age>=18 and age<=35):\n",
    "    print(\"Mid Age\")\n",
    "elif(age>=36 and age<=55):\n",
    "    print(\"Greater Mid Age\")\n",
    "elif(age>=56 and age<=75):\n",
    "    print(\"Senior Citizen Age\")\n",
    "else:\n",
    "    print(\" Very old person\")"
   ]
  },
  {
   "cell_type": "code",
   "execution_count": 8,
   "id": "35508e63",
   "metadata": {},
   "outputs": [
    {
     "name": "stdout",
     "output_type": "stream",
     "text": [
      "Enter the Age23.7\n",
      "Mid Age\n"
     ]
    }
   ],
   "source": [
    "age=float(input(\"Enter the Age\"))\n",
    "\n",
    "if(age<18):\n",
    "    print(\"Minor Age\")\n",
    "elif(age>=18 and age<=35):\n",
    "    print(\"Mid Age\")\n",
    "elif(age>=36 and age<=56):\n",
    "    print(\"Greater Mid Age\")\n",
    "elif(age>=56 and age<=75):\n",
    "    print(\"Senior Citizen Age\")"
   ]
  },
  {
   "cell_type": "code",
   "execution_count": 16,
   "id": "fec3d52d",
   "metadata": {},
   "outputs": [
    {
     "name": "stdout",
     "output_type": "stream",
     "text": [
      "Enter the Age19\n",
      "Mid Age\n"
     ]
    }
   ],
   "source": [
    "age=float(input(\"Enter the Age\"))\n",
    "\n",
    "if(age<18):\n",
    "    print(\"Minor Age\")\n",
    "    if(age<15):\n",
    "        print(\"You are in the school\")\n",
    "    else:\n",
    "        print(\"You are in college\")        \n",
    "elif(age>=18 and age<=35):\n",
    "    print(\"Mid Age\")\n",
    "elif(age>=36 and age<=56):\n",
    "    print(\"Greater Mid Age\")\n",
    "elif(age>=56 and age<=75):\n",
    "    print(\"Senior Citizen Age\")"
   ]
  },
  {
   "cell_type": "code",
   "execution_count": 17,
   "id": "4240854d",
   "metadata": {},
   "outputs": [
    {
     "name": "stdout",
     "output_type": "stream",
     "text": [
      "Enter the Age14\n",
      "Minor Age\n",
      "You are in the school\n"
     ]
    }
   ],
   "source": [
    "age=float(input(\"Enter the Age\"))\n",
    "\n",
    "if(age<18):\n",
    "    print(\"Minor Age\")\n",
    "    if(age<15):\n",
    "        print(\"You are in the school\")\n",
    "    else:\n",
    "        print(\"You are in college\")        \n",
    "elif(age>=18 and age<=35):\n",
    "    print(\"Mid Age\")\n",
    "elif(age>=36 and age<=56):\n",
    "    print(\"Greater Mid Age\")\n",
    "elif(age>=56 and age<=75):\n",
    "    print(\"Senior Citizen Age\")"
   ]
  },
  {
   "cell_type": "code",
   "execution_count": null,
   "id": "201bf41b",
   "metadata": {},
   "outputs": [],
   "source": [
    "age=float(input(\"Enter the Age\"))\n",
    "\n",
    "if(age<18):\n",
    "    print(\"Minor Age\")\n",
    "    if(age<15):\n",
    "        print(\"You are in the school\")\n",
    "    else:\n",
    "        print(\"You are in college\")        \n",
    "elif(age>=18 and age<=35):\n",
    "    print(\"Mid Age\")\n",
    "elif(age>=36 and age<=56):\n",
    "    print(\"Greater Mid Age\")\n",
    "elif(age>=56 and age<=75):\n",
    "    print(\"Senior Citizen Age\")"
   ]
  },
  {
   "cell_type": "code",
   "execution_count": null,
   "id": "6096db36",
   "metadata": {},
   "outputs": [],
   "source": []
  }
 ],
 "metadata": {
  "kernelspec": {
   "display_name": "Python 3 (ipykernel)",
   "language": "python",
   "name": "python3"
  },
  "language_info": {
   "codemirror_mode": {
    "name": "ipython",
    "version": 3
   },
   "file_extension": ".py",
   "mimetype": "text/x-python",
   "name": "python",
   "nbconvert_exporter": "python",
   "pygments_lexer": "ipython3",
   "version": "3.9.13"
  }
 },
 "nbformat": 4,
 "nbformat_minor": 5
}
